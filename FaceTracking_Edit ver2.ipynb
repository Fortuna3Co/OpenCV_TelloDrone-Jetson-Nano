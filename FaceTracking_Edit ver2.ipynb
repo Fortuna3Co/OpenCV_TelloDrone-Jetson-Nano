{
 "cells": [
  {
   "cell_type": "code",
   "execution_count": null,
   "metadata": {},
   "outputs": [],
   "source": [
    "from jetbot import Camera\n",
    "from jetbot import Robot\n",
    "from jetbot import bgr8_to_jpeg\n",
    "import PID"
   ]
  },
  {
   "cell_type": "code",
   "execution_count": null,
   "metadata": {},
   "outputs": [],
   "source": [
    "robot = Robot()\n",
    "\n",
    "global camera\n",
    "camera = Camera.instance(width=720, height=720)\n",
    "\n",
    "global face_x, face_y, face_w, face_h\n",
    "face_x = face_y = face_w = face_h = 0\n",
    "\n",
    "global target_valuex\n",
    "target_valuex = 2048\n",
    "\n",
    "global target_valuey\n",
    "target_valuey = 2048"
   ]
  },
  {
   "cell_type": "code",
   "execution_count": null,
   "metadata": {},
   "outputs": [],
   "source": [
    "import traitlets\n",
    "import ipywidgets.widgets as widgets\n",
    "from IPython.display import display\n",
    "\n",
    "\n",
    "face_image = widgets.Image(format='jpeg', width=720, height=720)\n",
    "display(face_image)"
   ]
  },
  {
   "cell_type": "code",
   "execution_count": null,
   "metadata": {},
   "outputs": [],
   "source": [
    "import cv2\n",
    "face_cascade = cv2.CascadeClassifier('haarcascade_fullbody.xml')"
   ]
  },
  {
   "cell_type": "code",
   "execution_count": null,
   "metadata": {},
   "outputs": [],
   "source": [
    "while True:\n",
    "    frame = camera.value\n",
    "    frame = cv2.resize(frame, (600, 600))\n",
    "    gray = cv2.cvtColor(frame, cv2.COLOR_BGR2GRAY)\n",
    "    faces = face_cascade.detectMultiScale(gray, 1.4, 6)\n",
    "    \n",
    "    fbRange = [5000, 5200]\n",
    "    \n",
    "    if len(faces) > 0:\n",
    "        face_x, face_y, face_w, face_h = faces[0]\n",
    "    \n",
    "        area = face_w * face_h\n",
    "        print(\" !! AREA : \", area, \" !!\")\n",
    "\n",
    "        face_cx = face_x + face_w // 2\n",
    "        face_cy = face_y + face_h // 2\n",
    "\n",
    "        cv2.circle(frame, (face_cx, face_cy), 5, (0, 0, 255), 2, cv2.FILLED)\n",
    "        cv2.rectangle(frame,(face_x+10,face_y),(face_x+face_w-10,face_y+face_h+20),(0,255,0),2)\n",
    "\n",
    "        if area > fbRange[0] and area < fbRange[1]:\n",
    "            robot.stop()\n",
    "        elif area > fbRange[1]:\n",
    "            robot.backward(1)\n",
    "        elif area < fbRange[0] and area != 0:\n",
    "            robot.forward(1)\n",
    "        \n",
    "        if face_x == 0:\n",
    "            robot.stop()\n",
    "        \n",
    "    else : robot.stop()\n",
    "        \n",
    "    face_image.value = bgr8_to_jpeg(frame)"
   ]
  },
  {
   "cell_type": "code",
   "execution_count": null,
   "metadata": {},
   "outputs": [],
   "source": []
  },
  {
   "cell_type": "code",
   "execution_count": null,
   "metadata": {},
   "outputs": [],
   "source": []
  }
 ],
 "metadata": {
  "kernelspec": {
   "display_name": "Python 3",
   "language": "python",
   "name": "python3"
  },
  "language_info": {
   "codemirror_mode": {
    "name": "ipython",
    "version": 3
   },
   "file_extension": ".py",
   "mimetype": "text/x-python",
   "name": "python",
   "nbconvert_exporter": "python",
   "pygments_lexer": "ipython3",
   "version": "3.6.9"
  }
 },
 "nbformat": 4,
 "nbformat_minor": 4
}
