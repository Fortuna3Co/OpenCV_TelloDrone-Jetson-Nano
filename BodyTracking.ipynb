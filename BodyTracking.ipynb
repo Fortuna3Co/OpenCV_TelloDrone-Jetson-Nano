{
 "cells": [
  {
   "cell_type": "code",
   "execution_count": 1,
   "metadata": {},
   "outputs": [],
   "source": [
    "from jetbot import Camera\n",
    "from jetbot import Robot\n",
    "from jetbot import bgr8_to_jpeg\n",
    "import PID\n",
    "\n",
    "import sys"
   ]
  },
  {
   "cell_type": "code",
   "execution_count": 2,
   "metadata": {},
   "outputs": [],
   "source": [
    "robot = Robot()\n",
    "\n",
    "global camera\n",
    "camera = Camera.instance(width=720, height=720)\n",
    "\n",
    "global body_x, body_y, body_w, body_h\n",
    "body_x = body_y = body_w = body_h = 0\n",
    "\n",
    "global target_valuex\n",
    "target_valuex = 2048\n",
    "\n",
    "global target_valuey\n",
    "target_valuey = 2048\n"
   ]
  },
  {
   "cell_type": "code",
   "execution_count": 3,
   "metadata": {},
   "outputs": [
    {
     "data": {
      "application/vnd.jupyter.widget-view+json": {
       "model_id": "de3b7002d8d24a519cea02c6e26702da",
       "version_major": 2,
       "version_minor": 0
      },
      "text/plain": [
       "Image(value=b'', format='jpeg', height='300', width='400')"
      ]
     },
     "metadata": {},
     "output_type": "display_data"
    }
   ],
   "source": [
    "import traitlets\n",
    "import cv2\n",
    "import ipywidgets.widgets as widgets\n",
    "from IPython.display import display\n",
    "\n",
    "\n",
    "body_image = widgets.Image(format='jpeg', width=400, height=300)\n",
    "display(body_image)\n",
    "body_cascade = cv2.CascadeClassifier('haarcascade_fullbody.xml')\n"
   ]
  },
  {
   "cell_type": "code",
   "execution_count": null,
   "metadata": {},
   "outputs": [],
   "source": [
    "while 1:\n",
    "    frame = camera.value\n",
    "    gray = cv2.cvtColor(frame,cv2.COLOR_BGR2GRAY)\n",
    "    bodies = body_cascade.detectMultiScale(gray, 1.2, 6)\n",
    "    \n",
    "    \n",
    "    \n",
    "    bodiesListC, bodiesArea = [], []\n",
    "    area, cx, cy = 0, 0, 0\n",
    "    body_x, body_y, body_w, body_h = 0, 0, 0, 0\n",
    "    if len(bodies) > 0:\n",
    "        \n",
    "        for (body_x, body_y, body_w, body_h) in bodies:\n",
    "            body_area = body_w * body_h\n",
    "            body_cx = body_x + body_w // 2\n",
    "            body_cy = body_y + body_h // 2\n",
    "            cv2.rectangle(frame, (body_x, body_y), (body_x + body_w, body_y + body_h), (0, 255, 0), 2)\n",
    "\n",
    "            bodiesListC.append([body_cx, body_cy])\n",
    "            bodiesArea.append(body_area)\n",
    "        \n",
    "        \n",
    "        \n",
    "        \n",
    "    if len(bodiesArea) != 0:\n",
    "        max_index = bodiesArea.index(max(bodiesArea))\n",
    "        cx, cy = bodiesListC[max_index]\n",
    "        area = bodiesArea[max_index]\n",
    "        \n",
    "    else:\n",
    "        cx, cy, area = 0, 0, 0\n",
    "        \n",
    "    fbRange = [8000, 10000]\n",
    "    \n",
    "    if area > fbRange[0] and area < fbRange[1]:\n",
    "        robot.stop()\n",
    "    \n",
    "    elif area > fbRange[1]:\n",
    "        robot.set_motors(-0.85, -0.7)\n",
    "        print('back!!')\n",
    "    \n",
    "    elif area < fbRange[0] and area != 0:\n",
    "        robot.set_motors(0.85, 0.7)\n",
    "        print('forward!!')\n",
    "    \n",
    "    if cx != 0:\n",
    "        \n",
    "        print('!! x : ', cx, '   w : ', 400)\n",
    "        \n",
    "        if cx > 100:\n",
    "            robot.set_motors(0.2, 0.6)\n",
    "            print('right!!')\n",
    "\n",
    "        elif cx < 300:\n",
    "            robot.set_motors(0.7, 0.2)\n",
    "            print('left!!')\n",
    "        \n",
    "    \n",
    "    \n",
    "    if area != 0:\n",
    "        print(\" !! AREA : \", area, \" !!\")\n",
    "    \n",
    "    else:\n",
    "        robot.stop()\n",
    "    \n",
    "    \n",
    "    # Real-time return of image data for display\n",
    "    body_image.value = bgr8_to_jpeg(frame)"
   ]
  },
  {
   "cell_type": "code",
   "execution_count": 28,
   "metadata": {},
   "outputs": [],
   "source": [
    "robot.stop()"
   ]
  },
  {
   "cell_type": "code",
   "execution_count": 27,
   "metadata": {},
   "outputs": [
    {
     "name": "stdout",
     "output_type": "stream",
     "text": [
      "right!!\n"
     ]
    }
   ],
   "source": [
    "\n",
    "robot.set_motors(0.85, 0.3)\n",
    "print('right!!')\n"
   ]
  },
  {
   "cell_type": "code",
   "execution_count": null,
   "metadata": {},
   "outputs": [],
   "source": []
  }
 ],
 "metadata": {
  "kernelspec": {
   "display_name": "Python 3",
   "language": "python",
   "name": "python3"
  },
  "language_info": {
   "codemirror_mode": {
    "name": "ipython",
    "version": 3
   },
   "file_extension": ".py",
   "mimetype": "text/x-python",
   "name": "python",
   "nbconvert_exporter": "python",
   "pygments_lexer": "ipython3",
   "version": "3.6.9"
  }
 },
 "nbformat": 4,
 "nbformat_minor": 4
}
